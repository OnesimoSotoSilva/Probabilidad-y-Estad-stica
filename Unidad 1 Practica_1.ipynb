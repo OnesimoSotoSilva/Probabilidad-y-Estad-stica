{
  "cells": [
    {
      "cell_type": "markdown",
      "metadata": {
        "id": "view-in-github",
        "colab_type": "text"
      },
      "source": [
        "<a href=\"https://colab.research.google.com/github/OnesimoSotoSilva/Probabilidad-y-Estad-stica/blob/main/Unidad%201%20Practica_1.ipynb\" target=\"_parent\"><img src=\"https://colab.research.google.com/assets/colab-badge.svg\" alt=\"Open In Colab\"/></a>"
      ]
    },
    {
      "cell_type": "markdown",
      "metadata": {
        "id": "wJ12rAhxb0Ma"
      },
      "source": [
        "# **Ejemplo** **1**"
      ]
    },
    {
      "cell_type": "code",
      "execution_count": 1,
      "metadata": {
        "colab": {
          "base_uri": "https://localhost:8080/"
        },
        "id": "GWvGaPv8Til3",
        "outputId": "66d083e3-78e2-4b69-c055-4be1748a820a"
      },
      "outputs": [
        {
          "output_type": "stream",
          "name": "stdout",
          "text": [
            "[70, 70, 65, 90, 100, 95, 45, 80, 73, 20, 100, 96]\n"
          ]
        }
      ],
      "source": [
        "from statistics import *\n",
        "grupoa =[70, 70, 65, 90, 100, 95, 45, 80, 73, 20, 100, 96]\n",
        "print(grupoa)"
      ]
    },
    {
      "cell_type": "markdown",
      "metadata": {
        "id": "WcAyPkSVXeiH"
      },
      "source": []
    },
    {
      "cell_type": "code",
      "execution_count": null,
      "metadata": {
        "colab": {
          "base_uri": "https://localhost:8080/",
          "height": 271
        },
        "id": "623Ir7HHUZOA",
        "outputId": "64b9dd06-52ff-4e67-f7ff-2d8f89bef8e2"
      },
      "outputs": [
        {
          "output_type": "error",
          "ename": "NameError",
          "evalue": "name 'grupoa' is not defined",
          "traceback": [
            "\u001b[0;31m---------------------------------------------------------------------------\u001b[0m",
            "\u001b[0;31mNameError\u001b[0m                                 Traceback (most recent call last)",
            "\u001b[0;32m<ipython-input-1-92e37c32f400>\u001b[0m in \u001b[0;36m<cell line: 0>\u001b[0;34m()\u001b[0m\n\u001b[0;32m----> 1\u001b[0;31m \u001b[0mtype\u001b[0m\u001b[0;34m(\u001b[0m\u001b[0mgrupoa\u001b[0m\u001b[0;34m)\u001b[0m\u001b[0;34m\u001b[0m\u001b[0;34m\u001b[0m\u001b[0m\n\u001b[0m\u001b[1;32m      2\u001b[0m \u001b[0;31m#Sacar la media de las calificaciones con una formula\u001b[0m\u001b[0;34m\u001b[0m\u001b[0;34m\u001b[0m\u001b[0m\n\u001b[1;32m      3\u001b[0m \u001b[0mpromedio\u001b[0m \u001b[0;34m=\u001b[0m\u001b[0msum\u001b[0m\u001b[0;34m(\u001b[0m\u001b[0mgrupoa\u001b[0m\u001b[0;34m)\u001b[0m\u001b[0;34m/\u001b[0m \u001b[0mlen\u001b[0m\u001b[0;34m(\u001b[0m\u001b[0mgrupoa\u001b[0m\u001b[0;34m)\u001b[0m\u001b[0;34m\u001b[0m\u001b[0;34m\u001b[0m\u001b[0m\n\u001b[1;32m      4\u001b[0m \u001b[0mprint\u001b[0m\u001b[0;34m(\u001b[0m\u001b[0mpromedio\u001b[0m\u001b[0;34m)\u001b[0m\u001b[0;34m\u001b[0m\u001b[0;34m\u001b[0m\u001b[0m\n",
            "\u001b[0;31mNameError\u001b[0m: name 'grupoa' is not defined"
          ]
        }
      ],
      "source": [
        "type(grupoa)\n",
        "#Sacar la media de las calificaciones con una formula\n",
        "promedio =sum(grupoa)/ len(grupoa)\n",
        "print(promedio)"
      ]
    },
    {
      "cell_type": "code",
      "execution_count": null,
      "metadata": {
        "colab": {
          "base_uri": "https://localhost:8080/"
        },
        "id": "JSkrxK4fVd75",
        "outputId": "89e8358e-4416-4565-9e74-6498f7cf50c2"
      },
      "outputs": [
        {
          "name": "stdout",
          "output_type": "stream",
          "text": [
            "75.33333333333333\n"
          ]
        }
      ],
      "source": [
        "#Utiizar la funcion mean que esta en la libreria statistics para sacar el promedio\n",
        "promedio2 = mean(grupoa)\n",
        "print(promedio2)\n"
      ]
    },
    {
      "cell_type": "code",
      "execution_count": null,
      "metadata": {
        "colab": {
          "base_uri": "https://localhost:8080/"
        },
        "id": "yAXI4-D_WxHW",
        "outputId": "4a967067-07aa-49ff-8f73-6ab14d200df0"
      },
      "outputs": [
        {
          "name": "stdout",
          "output_type": "stream",
          "text": [
            "76.5\n"
          ]
        }
      ],
      "source": [
        "#Determinar el valor de la mediana con la funcion median\n",
        "mediana = median(grupoa)\n",
        "print(mediana)"
      ]
    },
    {
      "cell_type": "code",
      "execution_count": null,
      "metadata": {
        "colab": {
          "base_uri": "https://localhost:8080/"
        },
        "id": "q6rUcLAKXi9B",
        "outputId": "66551a04-b8db-4731-deac-0ab720a998c7"
      },
      "outputs": [
        {
          "name": "stdout",
          "output_type": "stream",
          "text": [
            "70\n"
          ]
        }
      ],
      "source": [
        "#Determinar la moda con la funcion mode\n",
        "moda = mode(grupoa)\n",
        "print(moda)"
      ]
    },
    {
      "cell_type": "code",
      "execution_count": null,
      "metadata": {
        "colab": {
          "base_uri": "https://localhost:8080/"
        },
        "id": "U7g_AbqPXzsE",
        "outputId": "f62ed029-8c00-4f3f-d31f-ade05c51789d"
      },
      "outputs": [
        {
          "name": "stdout",
          "output_type": "stream",
          "text": [
            "[70, 100]\n"
          ]
        }
      ],
      "source": [
        "#En caso de que exista mas de una moda, se puede emplear la funcion multimode para sacar las mulptiples modas que puedan existir\n",
        "moda2 = multimode(grupoa)\n",
        "print(moda2)"
      ]
    },
    {
      "cell_type": "markdown",
      "metadata": {
        "id": "IPDFggG4bwRJ"
      },
      "source": [
        "# **Ejemplo** **2**"
      ]
    },
    {
      "cell_type": "code",
      "execution_count": null,
      "metadata": {
        "colab": {
          "base_uri": "https://localhost:8080/"
        },
        "id": "h3G-11X7Y8KF",
        "outputId": "652dfde1-625c-486c-fc23-44e67f5f500b"
      },
      "outputs": [
        {
          "name": "stdout",
          "output_type": "stream",
          "text": [
            "[15.1, 17.2, 14.69, 13.27, 22.15, 18.71, 19.15, 20.65, 15.1, 17.2]\n"
          ]
        }
      ],
      "source": [
        "#Definimos una variable llamada tiempos100mts de tipo lista, que contiene los tiempos que tardaron los 10 alumnos para correr los 100 mts\n",
        "tiempos100mts = [15.10, 17.20, 14.69, 13.27, 22.15, 18.71, 19.15, 20.65, 15.10, 17.20,]\n",
        "\n",
        "#Desplegamos los valores de la lista\n",
        "print(tiempos100mts)"
      ]
    },
    {
      "cell_type": "code",
      "execution_count": null,
      "metadata": {
        "colab": {
          "base_uri": "https://localhost:8080/"
        },
        "id": "UNE9DN3LZqEI",
        "outputId": "7b9b4d55-b658-4d4c-aad1-e573529ae55b"
      },
      "outputs": [
        {
          "name": "stdout",
          "output_type": "stream",
          "text": [
            "El tiempo promedio de los corredores es 17.322\n"
          ]
        }
      ],
      "source": [
        "#Usamos la funcion mean para determinar el tiempo promedio de la lista de valores\n",
        "print(\"El tiempo promedio de los corredores es\", mean(tiempos100mts))"
      ]
    },
    {
      "cell_type": "code",
      "execution_count": null,
      "metadata": {
        "colab": {
          "base_uri": "https://localhost:8080/"
        },
        "id": "alBKDbQxaHJT",
        "outputId": "6cdda899-25a3-4776-eba3-37d3aad108e3"
      },
      "outputs": [
        {
          "name": "stdout",
          "output_type": "stream",
          "text": [
            "El tiempo promedio de los corredores es 17.2\n"
          ]
        }
      ],
      "source": [
        "#Usamos la funcion median para determinar el tiempo promedio de la lista de valores\n",
        "#Definimos ua variable llamada mediana para calcular la mediana de la lista con la funcion median\n",
        "mediana = median(tiempos100mts)\n",
        "print(\"El tiempo promedio de los corredores es\", mediana)"
      ]
    },
    {
      "cell_type": "code",
      "execution_count": null,
      "metadata": {
        "colab": {
          "base_uri": "https://localhost:8080/"
        },
        "id": "cCSkrAq5aqHh",
        "outputId": "c7cbdebc-d6ad-450f-9d44-3bd5a12deeea"
      },
      "outputs": [
        {
          "name": "stdout",
          "output_type": "stream",
          "text": [
            "El tiempo promedio de los corredores es 15.1\n"
          ]
        }
      ],
      "source": [
        "#Definimos una variable llamada moda para calcular la moda de la lista con la funcion mode\n",
        "moda = mode(tiempos100mts)\n",
        "print(\"El tiempo promedio de los corredores es\", moda)"
      ]
    },
    {
      "cell_type": "code",
      "execution_count": null,
      "metadata": {
        "colab": {
          "base_uri": "https://localhost:8080/"
        },
        "id": "gJ2CzE6IbO-p",
        "outputId": "7e36e5c1-5786-4a8f-edcd-646cd4d5d2c8"
      },
      "outputs": [
        {
          "name": "stdout",
          "output_type": "stream",
          "text": [
            "El tiempo promedio de los corredores es [15.1, 17.2]\n"
          ]
        }
      ],
      "source": [
        "#Funcion multimode para calcular multiples modas(por ejemplo, en caso de que sea bimodal)\n",
        "multimodas = multimode(tiempos100mts)\n",
        "print(\"El tiempo promedio de los corredores es\", multimodas)"
      ]
    },
    {
      "cell_type": "markdown",
      "metadata": {
        "id": "9l1Lu-fBb_P4"
      },
      "source": [
        "# **Ejemplo** **3**"
      ]
    },
    {
      "cell_type": "code",
      "execution_count": null,
      "metadata": {
        "id": "E0hbyPoJcCyA"
      },
      "outputs": [],
      "source": [
        "#Libreria para generar numero aleatorios\n",
        "import random"
      ]
    },
    {
      "cell_type": "code",
      "execution_count": null,
      "metadata": {
        "colab": {
          "base_uri": "https://localhost:8080/"
        },
        "id": "fPoYu9ANcNXk",
        "outputId": "5be6af3d-3d6f-4a9c-9880-13053820cebb"
      },
      "outputs": [
        {
          "name": "stdout",
          "output_type": "stream",
          "text": [
            "[94.64, 55.62, 95.38, 66.81, 71.28, 87.67, 78.91, 85.37, 74.07, 98.41, 61.8, 71.62, 74.19, 82.16, 73.4, 78.55, 73.73, 95.3, 98.12, 66.15, 66.92, 61.14, 88.7, 81.94, 83.0, 77.99, 70.62, 65.03, 72.21, 55.11, 98.69, 57.27, 63.02, 80.64, 77.35, 57.87, 81.3, 92.58, 63.62, 86.31, 78.46, 63.34, 75.63, 63.22, 78.9, 91.32, 74.53, 77.76, 99.59, 77.58, 54.46, 95.36, 52.92, 92.76, 58.64, 57.94, 97.67, 81.34, 52.89, 92.58, 56.7, 79.08, 71.83, 80.53, 90.45, 73.45, 81.15, 62.31, 58.12, 57.87, 90.1, 75.08, 95.27, 83.5, 74.97, 53.51, 77.64, 81.4, 69.38, 81.9, 72.33, 60.98, 63.52, 67.89, 55.88, 89.12, 84.2, 53.39, 60.28, 68.28, 52.72, 94.32, 87.77, 53.84, 96.34, 53.21, 91.25, 74.9, 88.94, 79.76]\n"
          ]
        }
      ],
      "source": [
        "fabrica1 = []\n",
        "for i in range(100):\n",
        "  numero_aleatorio = round(random.uniform(50,100),2)\n",
        "  fabrica1.append(numero_aleatorio)\n",
        "print(fabrica1)"
      ]
    },
    {
      "cell_type": "code",
      "execution_count": null,
      "metadata": {
        "colab": {
          "base_uri": "https://localhost:8080/"
        },
        "id": "wIiZhJFodNQT",
        "outputId": "d9f97598-c165-4ab0-d583-c8b7119e6f9b"
      },
      "outputs": [
        {
          "name": "stdout",
          "output_type": "stream",
          "text": [
            "[59.69, 99.6, 53.98, 68.65, 72.17, 88.84, 65.68, 73.82, 98.81, 50.78, 51.71, 76.3, 76.88, 88.1, 97.01, 53.26, 81.39, 81.55, 64.22, 71.46, 88.15, 96.63, 86.15, 67.16, 87.59, 55.35, 85.96, 62.04, 57.9, 83.95, 63.39, 82.83, 62.53, 77.13, 83.98, 85.87, 78.42, 99.94, 85.31, 89.67, 80.38, 90.1, 68.94, 64.37, 64.83, 55.17, 79.09, 92.36, 59.52, 66.69, 77.8, 93.83, 50.77, 93.58, 63.68, 72.12, 65.86, 78.12, 85.76, 94.52, 94.07, 62.73, 90.07, 78.55, 59.44, 93.14, 85.27, 88.78, 68.49, 93.14, 82.83, 88.05, 94.68, 85.49, 65.24, 55.27, 84.81, 87.52, 78.17, 89.84, 77.18, 84.11, 98.95, 82.62, 61.85, 56.72, 61.29, 96.81, 68.06, 73.73, 86.18, 98.05, 68.55, 79.84, 73.28, 61.82, 89.56, 69.41, 82.16, 50.87]\n"
          ]
        }
      ],
      "source": [
        "fabrica2 = []\n",
        "for i in range(100):\n",
        "  numero_aleatorio = round(random.uniform(50,100),2)\n",
        "  fabrica2.append(numero_aleatorio)\n",
        "print(fabrica2)"
      ]
    },
    {
      "cell_type": "code",
      "execution_count": null,
      "metadata": {
        "id": "NJzfos18d9JD"
      },
      "outputs": [],
      "source": [
        "#Libreria para graficar valores\n",
        "import matplotlib.pyplot as plt"
      ]
    },
    {
      "cell_type": "code",
      "execution_count": null,
      "metadata": {
        "colab": {
          "base_uri": "https://localhost:8080/",
          "height": 469
        },
        "id": "BTrIyVY7eGr6",
        "outputId": "fbc7b3c2-d8eb-4305-abc6-1750291876d3"
      },
      "outputs": [
        {
          "data": {
            "text/plain": [
              "Text(0.5, 1.0, 'Produccion diria de la fabrica 1')"
            ]
          },
          "execution_count": 13,
          "metadata": {},
          "output_type": "execute_result"
        },
        {
          "data": {
            "image/png": "[encoded data removed]",
            "text/plain": [
              "<Figure size 640x480 with 1 Axes>"
            ]
          },
          "metadata": {},
          "output_type": "display_data"
        }
      ],
      "source": [
        "plt.hist(fabrica1)\n",
        "plt.title(\"Produccion diria de la fabrica 1\")"
      ]
    },
    {
      "cell_type": "code",
      "execution_count": null,
      "metadata": {
        "colab": {
          "base_uri": "https://localhost:8080/"
        },
        "id": "SzXbEOZjfNOC",
        "outputId": "064b9e93-4780-4832-afc7-e64e3372fffd"
      },
      "outputs": [
        {
          "name": "stdout",
          "output_type": "stream",
          "text": [
            "Valores de la fabrica 1\n",
            "La media es 75.2454\n",
            "La mediana es 75.35499999999999\n",
            "La moda es 57.87\n"
          ]
        }
      ],
      "source": [
        "media1 = mean(fabrica1)\n",
        "mediana1 = median(fabrica1)\n",
        "moda1= mode(fabrica1)\n",
        "\n",
        "print(\"Valores de la fabrica 1\")\n",
        "print(\"La media es\",media1)\n",
        "print(\"La mediana es\",mediana1)\n",
        "print(\"La moda es\",moda1)"
      ]
    },
    {
      "cell_type": "code",
      "execution_count": null,
      "metadata": {
        "colab": {
          "base_uri": "https://localhost:8080/",
          "height": 469
        },
        "id": "XuKLlnswdpdF",
        "outputId": "07ed6d0a-2901-4ef5-aedb-09893817f0ff"
      },
      "outputs": [
        {
          "data": {
            "text/plain": [
              "Text(0.5, 1.0, 'Produccion diaria de la Fabrica 2')"
            ]
          },
          "execution_count": 14,
          "metadata": {},
          "output_type": "execute_result"
        },
        {
          "data": {
            "image/png": "[encoded data removed]",
            "text/plain": [
              "<Figure size 640x480 with 1 Axes>"
            ]
          },
          "metadata": {},
          "output_type": "display_data"
        }
      ],
      "source": [
        "plt.hist(fabrica2)\n",
        "plt.title(\"Produccion diaria de la Fabrica 2\")"
      ]
    },
    {
      "cell_type": "code",
      "execution_count": null,
      "metadata": {
        "colab": {
          "base_uri": "https://localhost:8080/"
        },
        "id": "HFhcLdXseSaM",
        "outputId": "8721ecdf-51bd-4531-db52-6987c480b3a5"
      },
      "outputs": [
        {
          "name": "stdout",
          "output_type": "stream",
          "text": [
            "Valores de la fabrica 2\n",
            "La media es 76.9796\n",
            "La mediana es 78.485\n",
            "La moda es 82.83\n"
          ]
        }
      ],
      "source": [
        "media2 = mean(fabrica2)\n",
        "mediana2 = median(fabrica2)\n",
        "moda2= mode(fabrica2)\n",
        "\n",
        "print(\"Valores de la fabrica 2\")\n",
        "print(\"La media es\",media2)\n",
        "print(\"La mediana es\",mediana2)\n",
        "print(\"La moda es\",moda2)"
      ]
    },
    {
      "cell_type": "code",
      "execution_count": null,
      "metadata": {
        "colab": {
          "base_uri": "https://localhost:8080/",
          "height": 445
        },
        "id": "pXP0oieEfo90",
        "outputId": "64ea97cf-e5e4-4933-f6eb-45cba95e6b3c"
      },
      "outputs": [
        {
          "data": {
            "image/png": "[encoded data removed]",
            "text/plain": [
              "<Figure size 1000x500 with 2 Axes>"
            ]
          },
          "metadata": {},
          "output_type": "display_data"
        }
      ],
      "source": [
        "#Generar 2 subplot de 1 renglon por 2 columnas para desplegar los 2 histogramas, uno al lado del otro\n",
        "\n",
        "fig, (ax1,ax2)=plt.subplots(nrows=1, ncols=2, figsize=(10,5))\n",
        "ax1.hist(fabrica1)\n",
        "ax2.hist(fabrica2)\n",
        "plt.show()"
      ]
    },
    {
      "cell_type": "code",
      "execution_count": null,
      "metadata": {
        "colab": {
          "background_save": true
        },
        "id": "6A4G8A6dhete",
        "outputId": "4119aed7-8034-444f-9b0f-ccaeda95a234"
      },
      "outputs": [
        {
          "data": {
            "image/png": "[encoded data removed]",
            "text/plain": [
              "<Figure size 640x480 with 1 Axes>"
            ]
          },
          "metadata": {},
          "output_type": "display_data"
        }
      ],
      "source": [
        "plt.hist(fabrica1, bins 10, alpha=0.2, color='b', edgecolor = \"black\")\n",
        "plt.axvline(media1, color='b', linestyle='dashed', linewidth=2, label='Media')\n",
        "plt.axvline(mediana1, color='r', linestyle='dashed', linewidth=2, label='Mediana')\n",
        "plt.axvline(moda1, color='y', linestyle='dashed', linewidth=2, label='Moda')\n",
        "plt.xlabe1('Valor')\n",
        "plt.ylabe1('Frecuencia')\n",
        "plt.title(\"Producción diaria de la fabrica 1\")\n",
        "plt.legend()\n",
        "plt.show()"
      ]
    }
  ],
  "metadata": {
    "colab": {
      "provenance": [],
      "authorship_tag": "ABX9TyPWk9f9znlGhA94RlDoWO/P",
      "include_colab_link": true
    },
    "kernelspec": {
      "display_name": "Python 3",
      "name": "python3"
    },
    "language_info": {
      "name": "python"
    }
  },
  "nbformat": 4,
  "nbformat_minor": 0
}